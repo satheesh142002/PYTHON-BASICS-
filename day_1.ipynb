{
 "cells": [
  {
   "cell_type": "markdown",
   "id": "fe93e6ed",
   "metadata": {},
   "source": [
    "DAY -1 PYTHON"
   ]
  },
  {
   "cell_type": "code",
   "execution_count": null,
   "id": "265039bf",
   "metadata": {},
   "outputs": [],
   "source": []
  }
 ],
 "metadata": {
  "language_info": {
   "name": "python"
  }
 },
 "nbformat": 4,
 "nbformat_minor": 5
}
